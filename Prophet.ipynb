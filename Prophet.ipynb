{
  "nbformat": 4,
  "nbformat_minor": 0,
  "metadata": {
    "colab": {
      "provenance": []
    },
    "kernelspec": {
      "name": "python3",
      "display_name": "Python 3"
    },
    "language_info": {
      "name": "python"
    }
  },
  "cells": [
    {
      "cell_type": "code",
      "execution_count": null,
      "metadata": {
        "colab": {
          "base_uri": "https://localhost:8080/",
          "height": 988
        },
        "id": "yMzIYUGx8x2T",
        "outputId": "ebc575b1-0d20-4cf2-db3a-e4ce6fd288a6"
      },
      "outputs": [
        {
          "output_type": "stream",
          "name": "stderr",
          "text": [
            "INFO:prophet:Disabling yearly seasonality. Run prophet with yearly_seasonality=True to override this.\n"
          ]
        },
        {
          "output_type": "stream",
          "name": "stdout",
          "text": [
            "                        ds          y\n",
            "195884 2023-04-13 13:29:00  11.710300\n",
            "195885 2023-04-13 13:30:00  11.787902\n",
            "195886 2023-04-13 13:31:00  11.832978\n",
            "195887 2023-04-13 13:32:00  11.819380\n",
            "195888 2023-04-13 13:33:00  11.782113\n"
          ]
        },
        {
          "output_type": "stream",
          "name": "stderr",
          "text": [
            "DEBUG:cmdstanpy:input tempfile: /tmp/tmpmvd21kx4/e7c7r404.json\n",
            "DEBUG:cmdstanpy:input tempfile: /tmp/tmpmvd21kx4/kgwvn60q.json\n",
            "DEBUG:cmdstanpy:idx 0\n",
            "DEBUG:cmdstanpy:running CmdStan, num_threads: None\n",
            "DEBUG:cmdstanpy:CmdStan args: ['/usr/local/lib/python3.10/dist-packages/prophet/stan_model/prophet_model.bin', 'random', 'seed=20125', 'data', 'file=/tmp/tmpmvd21kx4/e7c7r404.json', 'init=/tmp/tmpmvd21kx4/kgwvn60q.json', 'output', 'file=/tmp/tmpmvd21kx4/prophet_model439y6g43/prophet_model-20230516162454.csv', 'method=optimize', 'algorithm=lbfgs', 'iter=10000']\n",
            "16:24:54 - cmdstanpy - INFO - Chain [1] start processing\n",
            "INFO:cmdstanpy:Chain [1] start processing\n",
            "16:30:13 - cmdstanpy - INFO - Chain [1] done processing\n",
            "INFO:cmdstanpy:Chain [1] done processing\n"
          ]
        },
        {
          "output_type": "stream",
          "name": "stdout",
          "text": [
            "time required for training\n",
            "363.9725708149999\n",
            "0.45518863100005547\n",
            "0      2023-05-16 00:00:00\n",
            "1      2023-05-16 00:01:00\n",
            "2      2023-05-16 00:02:00\n",
            "3      2023-05-16 00:03:00\n",
            "4      2023-05-16 00:04:00\n",
            "               ...        \n",
            "1435   2023-05-16 23:55:00\n",
            "1436   2023-05-16 23:56:00\n",
            "1437   2023-05-16 23:57:00\n",
            "1438   2023-05-16 23:58:00\n",
            "1439   2023-05-16 23:59:00\n",
            "Name: date, Length: 1440, dtype: datetime64[ns]\n"
          ]
        },
        {
          "output_type": "display_data",
          "data": {
            "text/plain": [
              "<Figure size 640x480 with 1 Axes>"
            ],
            "image/png": "[encoded data removed]"
          },
          "metadata": {}
        }
      ],
      "source": [
        "# -*- coding: utf-8 -*-\n",
        "\"\"\"\n",
        "Created on Thu Apr 13 15:03:36 2023\n",
        "\n",
        "@author: chandra\n",
        "\"\"\"\n",
        "\n",
        "import pandas as pd\n",
        "import numpy as np\n",
        "from matplotlib import pyplot\n",
        "from prophet.serialize import model_to_json, model_from_json\n",
        "from prophet import Prophet\n",
        "from timeit import default_timer as timer\n",
        "import warnings\n",
        "from datetime import date\n",
        "\n",
        "\n",
        "df = pd.read_excel(r'/content/LT Meter Data.xlsx') # path for the input excel file\n",
        "\n",
        "# the below code is for data preprocessing\n",
        "\n",
        "data = df.sort_values(by = 'DATE', ignore_index=True)\n",
        "fd = data\n",
        "data=fd[['DATE', 'voltage_status']]\n",
        "fd['date']=pd.to_datetime(fd['DATE'])\n",
        "data=data.set_index(fd.date)\n",
        "data=data.drop(['DATE'],axis=1)\n",
        "data= data[data['voltage_status'] != 0]\n",
        "min=data.resample('T').last().ffill()\n",
        "df=min\n",
        "df.reset_index(inplace=True)\n",
        "df=df.rename(columns={'date':'ds','voltage_status':'y'})\n",
        "\n",
        "df_log = df.copy()\n",
        "# Create the log scale data by taking the natual log of the stock prices.\n",
        "df_log['y_log'] = np.log(df['y'])\n",
        "# Delete the stock price and rename the log scale stock price to y\n",
        "df_log = df_log.drop('y', axis=1).rename(columns={'y_log': 'y'})\n",
        "\n",
        "del data, df\n",
        "\n",
        "# to include training use the code below\n",
        "train = df_log\n",
        "print(train.tail())\n",
        "#model created with required input parameters\n",
        "model = Prophet(n_changepoints= 23, weekly_seasonality = False, daily_seasonality=False, seasonality_mode = 'additive', interval_width = 0.95, uncertainty_samples = 1000).add_seasonality(name = \"daily\", period = 1, fourier_order = 30).add_seasonality(name = \"weekly\", period = 7, fourier_order = 20)#growth = 'logistic')\n",
        "#train['cap'] = 12.5\n",
        "# fit the model\n",
        "start = timer()\n",
        "model.fit(train) # model getting fitted\n",
        "end = timer()\n",
        "print('time required for training')\n",
        "print(end - start)\n",
        "\n",
        "# the below code is for testing\n",
        "\n",
        "date1 = date.today() # to get today's date in proper format\n",
        "\n",
        "future = list()\n",
        "for i in range(24):\n",
        "  for j in range(60):\n",
        "    date = (str(date1) + ' %02d:%02d') %(i,j)\n",
        "    future.append([date])\n",
        "future = pd.DataFrame(future)\n",
        "future.columns = ['ds']\n",
        "future['ds']= pd.to_datetime(future['ds'])\n",
        "start = timer()\n",
        "forecast=model.predict(future)\n",
        "import matplotlib.pyplot as plt\n",
        "plt.plot(forecast)\n",
        "end = timer()\n",
        "print(end-start)\n",
        "del future\n",
        "temp = np.exp(forecast.drop(['ds'], axis=1))\n",
        "temp['date'] = forecast['ds']\n",
        "print(temp['date'])\n",
        "# with pd.ExcelWriter(r'\\\\data\\SHARE\\Power BI Excels\\Analytics\\Analytics - Energy Meter - Building\\LT Meter Data Output.xlsx', mode=\"a\", engine=\"openpyxl\", if_sheet_exists=\"overlay\",) as writer: # output excel file need to be created with first row as column names \"yhat\", \"yhat_lower\", \"yhat_upper\", \"date\"\n",
        "#     temp.to_excel(writer, sheet_name='Sheet1', startrow = writer.sheets['Sheet1'].max_row, index = False, header = False, columns = ['yhat','yhat_lower','yhat_upper','date'])\n",
        "\n",
        "\n",
        "\n"
      ]
    },
    {
      "cell_type": "code",
      "source": [
        "print(forecast\n",
        "  )"
      ],
      "metadata": {
        "colab": {
          "base_uri": "https://localhost:8080/"
        },
        "id": "wccDoWi19rMk",
        "outputId": "f8d2f0cd-2dbc-4b28-c8c4-26810cf2105c"
      },
      "execution_count": null,
      "outputs": [
        {
          "output_type": "stream",
          "name": "stdout",
          "text": [
            "                      ds      trend  yhat_lower  yhat_upper  trend_lower  \\\n",
            "0    2023-05-16 00:00:00  11.129423   10.319254   11.238631    11.129423   \n",
            "1    2023-05-16 00:01:00  11.129419   10.335882   11.237024    11.129419   \n",
            "2    2023-05-16 00:02:00  11.129416   10.348367   11.262025    11.129416   \n",
            "3    2023-05-16 00:03:00  11.129412   10.303551   11.242369    11.129412   \n",
            "4    2023-05-16 00:04:00  11.129409   10.346583   11.262455    11.129409   \n",
            "...                  ...        ...         ...         ...          ...   \n",
            "1435 2023-05-16 23:55:00  11.124339   10.313662   11.222116    11.097750   \n",
            "1436 2023-05-16 23:56:00  11.124335   10.275109   11.170804    11.097713   \n",
            "1437 2023-05-16 23:57:00  11.124331   10.302184   11.201333    11.097676   \n",
            "1438 2023-05-16 23:58:00  11.124328   10.298415   11.205607    11.097639   \n",
            "1439 2023-05-16 23:59:00  11.124324   10.277128   11.244750    11.097602   \n",
            "\n",
            "      trend_upper  additive_terms  additive_terms_lower  additive_terms_upper  \\\n",
            "0       11.129423       -0.332321             -0.332321             -0.332321   \n",
            "1       11.129419       -0.333505             -0.333505             -0.333505   \n",
            "2       11.129416       -0.334667             -0.334667             -0.334667   \n",
            "3       11.129412       -0.335794             -0.335794             -0.335794   \n",
            "4       11.129409       -0.336875             -0.336875             -0.336875   \n",
            "...           ...             ...                   ...                   ...   \n",
            "1435    11.141301       -0.369904             -0.369904             -0.369904   \n",
            "1436    11.141314       -0.371052             -0.371052             -0.371052   \n",
            "1437    11.141324       -0.372240             -0.372240             -0.372240   \n",
            "1438    11.141333       -0.373456             -0.373456             -0.373456   \n",
            "1439    11.141342       -0.374685             -0.374685             -0.374685   \n",
            "\n",
            "         daily  daily_lower  daily_upper    weekly  weekly_lower  \\\n",
            "0    -0.175678    -0.175678    -0.175678 -0.156643     -0.156643   \n",
            "1    -0.176199    -0.176199    -0.176199 -0.157306     -0.157306   \n",
            "2    -0.176699    -0.176699    -0.176699 -0.157968     -0.157968   \n",
            "3    -0.177165    -0.177165    -0.177165 -0.158629     -0.158629   \n",
            "4    -0.177587    -0.177587    -0.177587 -0.159289     -0.159289   \n",
            "...        ...          ...          ...       ...           ...   \n",
            "1435 -0.173213    -0.173213    -0.173213 -0.196692     -0.196692   \n",
            "1436 -0.173644    -0.173644    -0.173644 -0.197408     -0.197408   \n",
            "1437 -0.174119    -0.174119    -0.174119 -0.198121     -0.198121   \n",
            "1438 -0.174625    -0.174625    -0.174625 -0.198830     -0.198830   \n",
            "1439 -0.175149    -0.175149    -0.175149 -0.199536     -0.199536   \n",
            "\n",
            "      weekly_upper  multiplicative_terms  multiplicative_terms_lower  \\\n",
            "0        -0.156643                   0.0                         0.0   \n",
            "1        -0.157306                   0.0                         0.0   \n",
            "2        -0.157968                   0.0                         0.0   \n",
            "3        -0.158629                   0.0                         0.0   \n",
            "4        -0.159289                   0.0                         0.0   \n",
            "...            ...                   ...                         ...   \n",
            "1435     -0.196692                   0.0                         0.0   \n",
            "1436     -0.197408                   0.0                         0.0   \n",
            "1437     -0.198121                   0.0                         0.0   \n",
            "1438     -0.198830                   0.0                         0.0   \n",
            "1439     -0.199536                   0.0                         0.0   \n",
            "\n",
            "      multiplicative_terms_upper       yhat  \n",
            "0                            0.0  10.797102  \n",
            "1                            0.0  10.795914  \n",
            "2                            0.0  10.794749  \n",
            "3                            0.0  10.793618  \n",
            "4                            0.0  10.792534  \n",
            "...                          ...        ...  \n",
            "1435                         0.0  10.754434  \n",
            "1436                         0.0  10.753283  \n",
            "1437                         0.0  10.752091  \n",
            "1438                         0.0  10.750872  \n",
            "1439                         0.0  10.749639  \n",
            "\n",
            "[1440 rows x 19 columns]\n"
          ]
        }
      ]
    },
    {
      "cell_type": "code",
      "source": [
        "print(train)"
      ],
      "metadata": {
        "colab": {
          "base_uri": "https://localhost:8080/"
        },
        "id": "GqjbDd0M_dkF",
        "outputId": "eadd53e7-7ff1-4b44-931e-d8f8ab01499a"
      },
      "execution_count": null,
      "outputs": [
        {
          "output_type": "stream",
          "name": "stdout",
          "text": [
            "                        ds          y\n",
            "0      2022-11-28 12:45:00  12.023531\n",
            "1      2022-11-28 12:46:00  12.025869\n",
            "2      2022-11-28 12:47:00  12.117733\n",
            "3      2022-11-28 12:48:00  12.107467\n",
            "4      2022-11-28 12:49:00  12.082265\n",
            "...                    ...        ...\n",
            "195884 2023-04-13 13:29:00  11.710300\n",
            "195885 2023-04-13 13:30:00  11.787902\n",
            "195886 2023-04-13 13:31:00  11.832978\n",
            "195887 2023-04-13 13:32:00  11.819380\n",
            "195888 2023-04-13 13:33:00  11.782113\n",
            "\n",
            "[195889 rows x 2 columns]\n"
          ]
        }
      ]
    },
    {
      "cell_type": "code",
      "source": [],
      "metadata": {
        "id": "koemwX4bJ2GD"
      },
      "execution_count": null,
      "outputs": []
    }
  ]
}